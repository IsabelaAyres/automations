{
 "cells": [
  {
   "cell_type": "markdown",
   "id": "c9b3e0f8",
   "metadata": {},
   "source": [
    "#### Importing libraries and ignoring warning messages\n"
   ]
  },
  {
   "cell_type": "code",
   "execution_count": null,
   "id": "3c4c22b8",
   "metadata": {},
   "outputs": [],
   "source": [
    "# Importing libraries \n",
    "from datetime import datetime # we will use in our loop\n",
    "from time import sleep\n",
    "\n",
    "from selenium import webdriver \n",
    "from selenium.common.exceptions import NoSuchElementException, ElementNotInteractableException, StaleElementReferenceException\n",
    "from selenium.webdriver.support.wait import WebDriverWait\n",
    "from selenium.webdriver.support import expected_conditions as EC \n",
    "from selenium.webdriver.common.by import By\n",
    "\n",
    "# Ignore warning messages\n",
    "import warnings\n",
    "warnings.filterwarnings(\"ignore\")"
   ]
  },
  {
   "cell_type": "markdown",
   "id": "e1d403e0",
   "metadata": {},
   "source": [
    "#### Read and store the current date and time"
   ]
  },
  {
   "cell_type": "code",
   "execution_count": 8,
   "id": "f27eb5d7",
   "metadata": {},
   "outputs": [],
   "source": [
    "current_time = datetime.today().strftime('%I:%M %p')"
   ]
  },
  {
   "cell_type": "markdown",
   "id": "88a148e3",
   "metadata": {},
   "source": [
    "#### Setting up the browser"
   ]
  },
  {
   "cell_type": "code",
   "execution_count": 14,
   "id": "41775bc0",
   "metadata": {},
   "outputs": [],
   "source": [
    "Options = webdriver.ChromeOptions()\n",
    "Options.add_argument(\"--incognito\") #Using incognito window is helpful to avoid sync issuess\n",
    "#Options.add_argument(\"--headless\") #We can use this argument to make the browser invisible\n",
    "browser = webdriver.Chrome(options=Options)\n",
    "fluentwait = WebDriverWait(browser, 30,poll_frequency=2,ignored_exceptions=[ElementNotInteractableException, StaleElementReferenceException]) #Here we are defining wait instructions for a web element to become visible, this is useful considering that our network speed can vary for several reasons"
   ]
  },
  {
   "cell_type": "markdown",
   "id": "fab20fb0",
   "metadata": {},
   "source": [
    "#### Go to the Power BI Dashboard link and refresh (note that we are creating a function, so as we can use it inside a loop to repeat the process as needed)"
   ]
  },
  {
   "cell_type": "code",
   "execution_count": null,
   "id": "011549db",
   "metadata": {},
   "outputs": [],
   "source": [
    "# Creating a function\n",
    "def refreshPBI ():\n",
    "    # Automated login process\n",
    "    browser.get(\"https://pod51277.outlook.com/mail/inbox\") #Go to Outlook page\n",
    "    fluentwait.until(EC.element_to_be_clickable((By.XPATH,'//*[@id=\"i0116\"]'))).send_keys(\"YOUR_EMAIL_HERE\") #Enter email\n",
    "    fluentwait.until(EC.element_to_be_clickable((By.XPATH,'//*[@id=\"idSIButton9\"]'))).click() #Click on next button\n",
    "    fluentwait.until(EC.element_to_be_clickable((By.XPATH,'//*[@id=\"i0118\"]'))).send_keys(\"YOUR_PASSWORD_HERE\") #Enter password\n",
    "    fluentwait.until(EC.element_to_be_clickable((By.XPATH,'//*[@id=\"idSIButton9\"]'))).click() #Click on next button\n",
    "\n",
    "    #Refreshing Power BI Dashboard\n",
    "    browser.get(\"YOUR_DASHBOARD_LINK_HERE\") #Go to Power BI Dashboard page\n",
    "    fluentwait.until(EC.element_to_be_clickable((By.XPATH,'//*[@id=\"moreActionsBtn\"]'))).click() #Click on 'More options' button\n",
    "    fluentwait.until(EC.element_to_be_clickable((By.XPATH,'//*[@title=\"See related content\"]'))).click() #Click on 'See related content' button\n",
    "    fluentwait.until(EC.element_to_be_clickable((By.XPATH,'//*[@title=\"Refresh now\"]'))).click() #Click on 'Refresh now'\n",
    "\n",
    "    #Quit the browser\n",
    "    browser.quit()"
   ]
  },
  {
   "cell_type": "markdown",
   "id": "d7099571",
   "metadata": {},
   "source": [
    "#### Finally, we create a loop that aims to repeat the refresh process until a defined time"
   ]
  },
  {
   "cell_type": "code",
   "execution_count": null,
   "id": "22b0cd6b",
   "metadata": {},
   "outputs": [],
   "source": [
    "# Creating the loop to repeat the refresh steps until 10:00 pm\n",
    "while current_time < \"10:00 PM\":\n",
    "    \n",
    "    current_time = datetime.today().strftime('%I:%M %p') #Updates the current datetime        \n",
    "    refreshPBI() #Run the refresh function     \n",
    "    sleep(300) #Time to wait until the refresh function run again (in seconds)"
   ]
  }
 ],
 "metadata": {
  "kernelspec": {
   "display_name": "Python 3",
   "language": "python",
   "name": "python3"
  },
  "language_info": {
   "codemirror_mode": {
    "name": "ipython",
    "version": 3
   },
   "file_extension": ".py",
   "mimetype": "text/x-python",
   "name": "python",
   "nbconvert_exporter": "python",
   "pygments_lexer": "ipython3",
   "version": "3.8.8"
  }
 },
 "nbformat": 4,
 "nbformat_minor": 5
}
